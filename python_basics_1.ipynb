{
  "nbformat": 4,
  "nbformat_minor": 0,
  "metadata": {
    "colab": {
      "provenance": [],
      "authorship_tag": "ABX9TyODC+3MaRaRjlv6QJRcevUQ",
      "include_colab_link": true
    },
    "kernelspec": {
      "name": "python3",
      "display_name": "Python 3"
    },
    "language_info": {
      "name": "python"
    }
  },
  "cells": [
    {
      "cell_type": "markdown",
      "metadata": {
        "id": "view-in-github",
        "colab_type": "text"
      },
      "source": [
        "<a href=\"https://colab.research.google.com/github/Harsh9304/Machine-Learning/blob/main/python_basics_1.ipynb\" target=\"_parent\"><img src=\"https://colab.research.google.com/assets/colab-badge.svg\" alt=\"Open In Colab\"/></a>"
      ]
    },
    {
      "cell_type": "markdown",
      "source": [
        "SYSTEM SPECIFICATION\n",
        "\n"
      ],
      "metadata": {
        "id": "eQ96Gr48PAYd"
      }
    },
    {
      "cell_type": "code",
      "source": [
        "!cat /proc/cpuinfo"
      ],
      "metadata": {
        "id": "nrujzhBZO7no"
      },
      "execution_count": null,
      "outputs": []
    },
    {
      "cell_type": "code",
      "source": [
        "!cat /proc/meminfo\n"
      ],
      "metadata": {
        "id": "xO9v09iFPLkG"
      },
      "execution_count": null,
      "outputs": []
    },
    {
      "cell_type": "markdown",
      "source": [
        "INSTALLING LIBRARY\n"
      ],
      "metadata": {
        "id": "nETJjq7QPuFP"
      }
    },
    {
      "cell_type": "code",
      "source": [
        "!pip install pandas\n"
      ],
      "metadata": {
        "id": "01_UP6rLPbFs"
      },
      "execution_count": null,
      "outputs": []
    },
    {
      "cell_type": "markdown",
      "source": [
        "#PRINT FUNCTION\n"
      ],
      "metadata": {
        "id": "RlKfPGYhQfSU"
      }
    },
    {
      "cell_type": "code",
      "source": [
        "print(\"Machine Learning\")"
      ],
      "metadata": {
        "id": "8yxCJLhdP3nb"
      },
      "execution_count": null,
      "outputs": []
    },
    {
      "cell_type": "code",
      "source": [
        "print('Machine Learning')"
      ],
      "metadata": {
        "id": "-dQqh30_QoM-"
      },
      "execution_count": null,
      "outputs": []
    },
    {
      "cell_type": "code",
      "source": [
        "print(\"Machine Learning\"+\" Projects \")\n"
      ],
      "metadata": {
        "id": "z6CjYQlhQsNb"
      },
      "execution_count": null,
      "outputs": []
    },
    {
      "cell_type": "code",
      "source": [
        "print(8)"
      ],
      "metadata": {
        "id": "pox9O4ytQ6j5"
      },
      "execution_count": null,
      "outputs": []
    },
    {
      "cell_type": "code",
      "source": [
        "print(8+3)"
      ],
      "metadata": {
        "id": "gN20c_VBQ-1S"
      },
      "execution_count": null,
      "outputs": []
    },
    {
      "cell_type": "markdown",
      "source": [],
      "metadata": {
        "id": "Ei0dSEYgRWF_"
      }
    },
    {
      "cell_type": "markdown",
      "source": [
        "#BASIC DATATYPES\n",
        "\n",
        "1.int\n",
        "2.float\n",
        "3.str"
      ],
      "metadata": {
        "id": "uLyywl3kRgiQ"
      }
    },
    {
      "cell_type": "markdown",
      "source": [],
      "metadata": {
        "id": "NEZGrkSaSLmV"
      }
    },
    {
      "cell_type": "code",
      "source": [
        "type(8)"
      ],
      "metadata": {
        "id": "qhz80J_xRpWD"
      },
      "execution_count": null,
      "outputs": []
    },
    {
      "cell_type": "code",
      "source": [
        "type(5.3)"
      ],
      "metadata": {
        "id": "kK0iAKQyRzkF"
      },
      "execution_count": null,
      "outputs": []
    },
    {
      "cell_type": "code",
      "source": [
        "type(\"english\")"
      ],
      "metadata": {
        "id": "AOj7TZ6_R1fu"
      },
      "execution_count": null,
      "outputs": []
    },
    {
      "cell_type": "markdown",
      "source": [
        "#CONSTANT AND VARIABLE"
      ],
      "metadata": {
        "id": "BvR4OBNdSAVJ"
      }
    },
    {
      "cell_type": "code",
      "source": [
        "superhero=\"Iron man\"\n",
        "print(superhero)"
      ],
      "metadata": {
        "id": "NqxQAvwnR6di"
      },
      "execution_count": null,
      "outputs": []
    },
    {
      "cell_type": "code",
      "source": [
        "marvel_super_hero=\"Captain America\"\n",
        "print(marvel_super_hero)"
      ],
      "metadata": {
        "id": "qr7pfvanSc72"
      },
      "execution_count": null,
      "outputs": []
    },
    {
      "cell_type": "code",
      "source": [
        "hero1,hero2,hero3=\"Captain America\",\"Thor\",\"Batman\"\n",
        "print(hero1)\n",
        "print(hero2)\n",
        "print(hero3)"
      ],
      "metadata": {
        "id": "T1LSvEK_S0lb"
      },
      "execution_count": null,
      "outputs": []
    },
    {
      "cell_type": "code",
      "source": [
        "x=y=z=23\n",
        "print(x)\n",
        "print(y)\n",
        "print(z)"
      ],
      "metadata": {
        "id": "Tpj-gHdVTJlu"
      },
      "execution_count": null,
      "outputs": []
    },
    {
      "cell_type": "markdown",
      "source": [
        "#INPUT FUCTION"
      ],
      "metadata": {
        "id": "oM1pi3GhTXmC"
      }
    },
    {
      "cell_type": "code",
      "source": [
        "number_1=input(\"Enter the first number:\")\n",
        "number_2=input(\"Enter the second number:\")\n",
        "sum=number_1+number_2\n",
        "print(sum)"
      ],
      "metadata": {
        "id": "aBft3uoLTRP1"
      },
      "execution_count": null,
      "outputs": []
    },
    {
      "cell_type": "code",
      "source": [
        "number_1=int(input(\"Enter the first number:\"))\n",
        "number_2=int(input(\"Enter the second number:\"))\n",
        "sum=number_1+number_2\n",
        "print(sum)"
      ],
      "metadata": {
        "id": "v8RPLNG6Tq8r"
      },
      "execution_count": null,
      "outputs": []
    },
    {
      "cell_type": "code",
      "source": [
        "# changing the data type in pyhton\n",
        "num=5;\n",
        "print(type(num))\n",
        "print(float(num))\n"
      ],
      "metadata": {
        "id": "CJpPABwFUKuf"
      },
      "execution_count": null,
      "outputs": []
    },
    {
      "cell_type": "code",
      "source": [],
      "metadata": {
        "id": "0ZVmYJzFUVUN"
      },
      "execution_count": null,
      "outputs": []
    },
    {
      "cell_type": "markdown",
      "source": [
        "# BASIC DATA TYPES IN PYTHON\n",
        "1.INTEGER\n",
        "2.FLOATING POINT\n",
        "3.COMPLEX\n",
        "4.BOOLEAN\n",
        "5.STRING"
      ],
      "metadata": {
        "id": "AmYyCYbZUrK8"
      }
    },
    {
      "cell_type": "code",
      "source": [
        "#integers\n",
        "a=8\n",
        "print(a)"
      ],
      "metadata": {
        "id": "wmEKL5_NU3K-"
      },
      "execution_count": null,
      "outputs": []
    },
    {
      "cell_type": "code",
      "source": [
        "type(a)"
      ],
      "metadata": {
        "id": "jxv7Ski1U9v_"
      },
      "execution_count": null,
      "outputs": []
    },
    {
      "cell_type": "code",
      "source": [
        "#floating number\n",
        "b=2.3\n",
        "print(b)\n",
        "type(b)"
      ],
      "metadata": {
        "id": "vINKxh3KU-sp"
      },
      "execution_count": null,
      "outputs": []
    },
    {
      "cell_type": "code",
      "source": [
        "#complex number\n",
        "c=1+3j\n",
        "print(c)\n",
        "type(c)"
      ],
      "metadata": {
        "id": "mPpmRg7hVCkz"
      },
      "execution_count": null,
      "outputs": []
    },
    {
      "cell_type": "code",
      "source": [
        "#conversion of one data type to another"
      ],
      "metadata": {
        "id": "8pffX4_AVQ2U"
      },
      "execution_count": null,
      "outputs": []
    },
    {
      "cell_type": "code",
      "source": [
        "#int to float\n",
        "x=10\n",
        "print(x)\n",
        "type(x)"
      ],
      "metadata": {
        "id": "TKKuvEfJVc4u"
      },
      "execution_count": null,
      "outputs": []
    },
    {
      "cell_type": "code",
      "source": [
        "y=float(x);\n",
        "print(y)\n",
        "type(y)"
      ],
      "metadata": {
        "id": "H15kR28IV4iE"
      },
      "execution_count": null,
      "outputs": []
    },
    {
      "cell_type": "code",
      "source": [
        "#float to int\n",
        "x=5.88\n",
        "print(x)\n",
        "type(x)"
      ],
      "metadata": {
        "id": "tCLduBieV8uI"
      },
      "execution_count": null,
      "outputs": []
    },
    {
      "cell_type": "code",
      "source": [
        "y=int(x)\n",
        "print(y)\n",
        "type(y)"
      ],
      "metadata": {
        "id": "12fqaqWrWJdF"
      },
      "execution_count": null,
      "outputs": []
    },
    {
      "cell_type": "code",
      "source": [
        "#boolean(true and false)\n",
        "a=True\n",
        "b=False\n",
        "print(a)\n",
        "type(a)\n",
        "print(b)\n",
        "type(b)"
      ],
      "metadata": {
        "id": "mpY4PEQFWPjz"
      },
      "execution_count": null,
      "outputs": []
    },
    {
      "cell_type": "code",
      "source": [
        "a=7 <  3\n",
        "print(a)"
      ],
      "metadata": {
        "id": "R5Na27E7Wd4t"
      },
      "execution_count": null,
      "outputs": []
    },
    {
      "cell_type": "code",
      "source": [
        "a=7 >  3\n",
        "print(a)\n",
        "type(a)"
      ],
      "metadata": {
        "id": "kppjXyZ2WoLc"
      },
      "execution_count": null,
      "outputs": []
    },
    {
      "cell_type": "code",
      "source": [
        "#string\n",
        "print(\"machine learning\")"
      ],
      "metadata": {
        "id": "Uf0bMbslWvhn"
      },
      "execution_count": null,
      "outputs": []
    },
    {
      "cell_type": "code",
      "source": [
        "my_string=\"Machine Learning\"\n",
        "print(my_string)\n",
        "type(my_string)"
      ],
      "metadata": {
        "id": "wbkZa9SNW7vD"
      },
      "execution_count": null,
      "outputs": []
    },
    {
      "cell_type": "code",
      "source": [
        "print(\"Hello \"*5)"
      ],
      "metadata": {
        "id": "F50u52gNXJmL"
      },
      "execution_count": null,
      "outputs": []
    },
    {
      "cell_type": "code",
      "source": [
        "#slicing a string\n",
        "my_string =\"Programming\"\n",
        "print(my_string[1:5])# values from index 1 to 5-1 will be sliced"
      ],
      "metadata": {
        "id": "e4oahZ0VcWw_"
      },
      "execution_count": null,
      "outputs": []
    },
    {
      "cell_type": "code",
      "source": [
        "#step\n",
        "print(my_string[0:10:2])"
      ],
      "metadata": {
        "id": "taOn7UyacqzV"
      },
      "execution_count": null,
      "outputs": []
    },
    {
      "cell_type": "code",
      "source": [
        "#String Concatenation\n",
        "word_1=\"Machine\"\n",
        "word_2=\"Learning\"\n",
        "print(word_1 + \" \"+word_2)"
      ],
      "metadata": {
        "id": "hjoILlJcc50o"
      },
      "execution_count": null,
      "outputs": []
    },
    {
      "cell_type": "markdown",
      "source": [
        "TYPES OF OBJECTS IN PYTHON\n",
        "1.IMMUTABLE OBJECTS\n",
        "2.MUTABLE OBJECTS\n",
        "\n",
        "IMMUTABLE OBJECTS\n",
        "\n",
        "1.int\n",
        "2.float\n",
        "3.string\n",
        "4.bool\n",
        "5.tuple\n",
        "\n",
        "MUTABLE OBJECTS\n",
        "\n",
        "1.List\n",
        "2.Set\n",
        "3.Dictionary\n"
      ],
      "metadata": {
        "id": "igukUxh6de2m"
      }
    },
    {
      "cell_type": "code",
      "source": [
        "#list should be included in the square bracket\n",
        "my_list=[1,2,3,4,5]\n",
        "print(my_list)\n",
        "type(my_list)"
      ],
      "metadata": {
        "id": "KPzSL_-VdMDq"
      },
      "execution_count": null,
      "outputs": []
    },
    {
      "cell_type": "code",
      "source": [
        "#lists can have multiple data types\n",
        "my_list=[1,2,3.8,\"English\",True]\n",
        "print(my_list)\n",
        "type(my_list)"
      ],
      "metadata": {
        "id": "jjK12ka3eXMg"
      },
      "execution_count": null,
      "outputs": []
    },
    {
      "cell_type": "markdown",
      "source": [
        "LISTS ARE MUTABLE-->CHANGEABLE\n",
        "\n",
        "\n"
      ],
      "metadata": {
        "id": "URIUzMOCeyqI"
      }
    },
    {
      "cell_type": "code",
      "source": [
        "#ADD ELEMENTS TO A LIST\n",
        "my_list=[1,2,3.8,\"English\",True]\n",
        "my_list.append(6)\n",
        "print(my_list)"
      ],
      "metadata": {
        "id": "UOSJLDnzeuiV"
      },
      "execution_count": null,
      "outputs": []
    },
    {
      "cell_type": "code",
      "source": [
        "#print element of a list using their index\n",
        "print(my_list[0])\n",
        "print(my_list[1])\n",
        "print(my_list[4])"
      ],
      "metadata": {
        "id": "qgDlioJvfPsv"
      },
      "execution_count": null,
      "outputs": []
    },
    {
      "cell_type": "code",
      "source": [
        "#list allow duplicates value\n",
        "list_1=[1,2,3,4,4,5,6]\n",
        "print(list_1)"
      ],
      "metadata": {
        "id": "DER9Kg3vfdwX"
      },
      "execution_count": null,
      "outputs": []
    },
    {
      "cell_type": "code",
      "source": [
        "print(len(list_1))"
      ],
      "metadata": {
        "id": "XJ2gE9rUfn1H"
      },
      "execution_count": null,
      "outputs": []
    },
    {
      "cell_type": "code",
      "source": [
        "#initiating empty list\n",
        "list_2=[]\n",
        "print(list_2)"
      ],
      "metadata": {
        "id": "xP9Xduaqfr_p"
      },
      "execution_count": null,
      "outputs": []
    },
    {
      "cell_type": "code",
      "source": [
        "list_2.append(5)# since it is run 4 times\n",
        "print(list_2)"
      ],
      "metadata": {
        "id": "yyOOzbAef1ly"
      },
      "execution_count": null,
      "outputs": []
    },
    {
      "cell_type": "code",
      "source": [
        "# delete an item in list\n",
        "print(list_2)\n",
        "del list_2[0]\n",
        "print(list_2)"
      ],
      "metadata": {
        "id": "FE1ihyrjgEuB"
      },
      "execution_count": null,
      "outputs": []
    },
    {
      "cell_type": "code",
      "source": [
        "#join two lists\n",
        "list_3=[1,2,3,4,5]\n",
        "list_4=[6,7,8,9,10]\n",
        "list_5=list_3+list_4\n",
        "print(list_5)"
      ],
      "metadata": {
        "id": "7jlAvbzzgTTY"
      },
      "execution_count": null,
      "outputs": []
    },
    {
      "cell_type": "markdown",
      "source": [
        "TUPLE\n"
      ],
      "metadata": {
        "id": "4Ywcwj95gq_K"
      }
    },
    {
      "cell_type": "code",
      "source": [
        "tuple_1=(1,2,3,4)\n",
        "print(tuple_1)\n",
        "type(tuple_1)"
      ],
      "metadata": {
        "id": "eu3g4VP4gu_3"
      },
      "execution_count": null,
      "outputs": []
    },
    {
      "cell_type": "code",
      "source": [
        "#tuple allows multiple data types\n",
        "tuple_2=(1,2,3.5,\"Machine Learning\",False)\n",
        "print(tuple_2)"
      ],
      "metadata": {
        "id": "Z29Bi8c2g4Dp"
      },
      "execution_count": null,
      "outputs": []
    },
    {
      "cell_type": "code",
      "source": [
        "#converting a list to a tuple\n",
        "my_list=[3,4,5,6]\n",
        "print(my_list)\n",
        "my_tuple=tuple(my_list)\n",
        "print(my_tuple)\n",
        "\n"
      ],
      "metadata": {
        "id": "-QlWkkjChMhJ"
      },
      "execution_count": null,
      "outputs": []
    },
    {
      "cell_type": "code",
      "source": [
        "#indexing in tuple also\n",
        "print(my_tuple[0])\n",
        "print(my_tuple[1])"
      ],
      "metadata": {
        "id": "nB68toXChezK"
      },
      "execution_count": null,
      "outputs": []
    },
    {
      "cell_type": "markdown",
      "source": [
        "TUPLES ARE IMMUTABLE--> UNCHANGEABLE\n",
        "ONCE IT IS CREATED WE CAN FUTHER ADD OR DELETE"
      ],
      "metadata": {
        "id": "hjyoa6Y5hraB"
      }
    },
    {
      "cell_type": "code",
      "source": [
        "#my_tuple.append(6) # so it will give error"
      ],
      "metadata": {
        "id": "DMQldULkhpMs"
      },
      "execution_count": null,
      "outputs": []
    },
    {
      "cell_type": "code",
      "source": [
        "print(len(my_tuple))"
      ],
      "metadata": {
        "id": "Vwzt3iDuh8cA"
      },
      "execution_count": null,
      "outputs": []
    },
    {
      "cell_type": "markdown",
      "source": [
        "SET IN CURLY BRACKETS"
      ],
      "metadata": {
        "id": "ohljLBpziI_7"
      }
    },
    {
      "cell_type": "code",
      "source": [
        "my_set={1,2,3,4}\n",
        "print(my_set)\n",
        "type(my_set)\n",
        "#print(my_set[0]) # it will give error as indexing is not followed in sets"
      ],
      "metadata": {
        "id": "LgCyllQTiPrG"
      },
      "execution_count": null,
      "outputs": []
    },
    {
      "cell_type": "code",
      "source": [
        "#convert a list to a set\n",
        "list_5=[4,5,6,7,8]\n",
        "x=set(list_5)\n",
        "print(x)"
      ],
      "metadata": {
        "id": "oEKx_CpridNS"
      },
      "execution_count": null,
      "outputs": []
    },
    {
      "cell_type": "code",
      "source": [
        "#set doesnt allow duplicates value\n",
        "set_3={1,2,3,4,4,4,5,6,76,6}\n",
        "print(set_3)"
      ],
      "metadata": {
        "id": "lJgUw-8PjBK2"
      },
      "execution_count": null,
      "outputs": []
    },
    {
      "cell_type": "markdown",
      "source": [
        "DICTIONARY\n",
        "\n",
        "key-value pairs"
      ],
      "metadata": {
        "id": "6x0TXgfjjOQm"
      }
    },
    {
      "cell_type": "code",
      "source": [
        "my_dictionary={'name':'David','age':'30','country':'India'}\n",
        "print(my_dictionary)\n",
        "type(my_dictionary)"
      ],
      "metadata": {
        "id": "LRLtKRMsjMqM"
      },
      "execution_count": null,
      "outputs": []
    },
    {
      "cell_type": "code",
      "source": [
        "print(my_dictionary['name'])\n",
        "print(my_dictionary['age'])\n",
        "print(my_dictionary['country'])"
      ],
      "metadata": {
        "id": "elUUHVRak-1C"
      },
      "execution_count": null,
      "outputs": []
    },
    {
      "cell_type": "code",
      "source": [
        "#dictionary does not allow duplicate values\n",
        "dictionary_2={'name':'David','age':'30','country':'India','name':'David','age':'30','country':'India' }\n",
        "print(dictionary_2)"
      ],
      "metadata": {
        "id": "eIQS2f4GlJN7"
      },
      "execution_count": null,
      "outputs": []
    },
    {
      "cell_type": "markdown",
      "source": [
        "OPERATORS IN PYTHON\n",
        "\n",
        "1.ARITHMETIC OPERATORS\n",
        "2.ASSIGNMENT OPERATORS\n",
        "3.COMPARISON OPERATORS\n",
        "4.LOGICAL OPERATORS\n",
        "5.IDENTITY OPERATORS\n",
        "6.MEMBERSHIP OPERATORS\n"
      ],
      "metadata": {
        "id": "3eXWReF-t2CY"
      }
    },
    {
      "cell_type": "code",
      "source": [
        "#1.ARITHMETIC OPERATORS"
      ],
      "metadata": {
        "id": "sDIFJUHGl1pd"
      },
      "execution_count": null,
      "outputs": []
    },
    {
      "cell_type": "code",
      "source": [
        "num_1=20\n",
        "num_2=10\n",
        "\n",
        "#addition\n",
        "sum=num_1 + num_2\n",
        "print('sum= ',sum)\n",
        "\n",
        "#subtraction\n",
        "diff=num_1-num_2\n",
        "print('diff= ',diff)\n",
        "\n",
        "#multiplication\n",
        "multi=num_1*num_2\n",
        "print('multi= ',multi)\n",
        "\n",
        "#divison\n",
        "div=num_1/num_2\n",
        "print('div= ',div)\n",
        "\n",
        "#exponent\n",
        "exp=num_1**num_2\n",
        "print('exp= ',exp)\n",
        "\n",
        "#modulus\n",
        "mod=num_1%num_2\n",
        "print('mod= ',mod)\n"
      ],
      "metadata": {
        "id": "_vZ4TzvWuS7m"
      },
      "execution_count": null,
      "outputs": []
    },
    {
      "cell_type": "code",
      "source": [
        "#2.ASSIGNMENT OPERATOR   +=,-=,*=,**=/=,%="
      ],
      "metadata": {
        "id": "w6ATMT8Kv1rj"
      },
      "execution_count": null,
      "outputs": []
    },
    {
      "cell_type": "code",
      "source": [
        "a=5\n",
        "print(a)"
      ],
      "metadata": {
        "id": "HpEx--t4v5jI"
      },
      "execution_count": null,
      "outputs": []
    },
    {
      "cell_type": "code",
      "source": [
        "a=5\n",
        "a+=5\n",
        "print(a)"
      ],
      "metadata": {
        "id": "IiuG-ZIwv8Hb"
      },
      "execution_count": null,
      "outputs": []
    },
    {
      "cell_type": "code",
      "source": [
        "b=5\n",
        "b-=2\n",
        "print(b)"
      ],
      "metadata": {
        "id": "lZLNlgddwAYj"
      },
      "execution_count": null,
      "outputs": []
    },
    {
      "cell_type": "code",
      "source": [
        "#COMPARISON OPERATORS"
      ],
      "metadata": {
        "id": "zlXxX97CwFU9"
      },
      "execution_count": null,
      "outputs": []
    },
    {
      "cell_type": "code",
      "source": [
        "a=5\n",
        "b=10\n",
        "\n",
        "print(a==b)   # equal to\n",
        "print(a!=b)   #not equal to\n",
        "print(a>b)    #greater than\n",
        "print(a<b)\n",
        "print(a<=b)\n",
        "print(a>=b)\n"
      ],
      "metadata": {
        "id": "SPcxAJqGwUeT"
      },
      "execution_count": null,
      "outputs": []
    },
    {
      "cell_type": "code",
      "source": [
        "#LOGICAL OPERATORS\n",
        "#THREE LOGICAL OPERATORS--> AND,OR,NOT\n"
      ],
      "metadata": {
        "id": "0roVzfvbwpKe"
      },
      "execution_count": null,
      "outputs": []
    },
    {
      "cell_type": "code",
      "source": [
        "a=10\n",
        "print(a>20 and a>5)\n",
        "print(a>20 or a>5)\n",
        "print(not(a>5 and a>8))\n"
      ],
      "metadata": {
        "id": "ion7zlz7wzem"
      },
      "execution_count": null,
      "outputs": []
    },
    {
      "cell_type": "code",
      "source": [
        "#5.Identity Operator  --------> is and is not\n"
      ],
      "metadata": {
        "id": "UYerKZt_w4N0"
      },
      "execution_count": null,
      "outputs": []
    },
    {
      "cell_type": "code",
      "source": [
        "x=5\n",
        "y=5\n",
        "\n",
        "print(x is y)"
      ],
      "metadata": {
        "id": "TCSo4HkHxKm9"
      },
      "execution_count": null,
      "outputs": []
    },
    {
      "cell_type": "code",
      "source": [
        "x=5\n",
        "y=10\n",
        "\n",
        "print(x is not y)"
      ],
      "metadata": {
        "id": "LZfOzAibxTCi"
      },
      "execution_count": null,
      "outputs": []
    },
    {
      "cell_type": "code",
      "source": [
        "x=5\n",
        "y=5\n",
        "print( x is not y)"
      ],
      "metadata": {
        "id": "PU3PogPRxYXK"
      },
      "execution_count": null,
      "outputs": []
    },
    {
      "cell_type": "code",
      "source": [
        "#6. MEMBERSHIP OPERATORS -----------> in and not in\n"
      ],
      "metadata": {
        "id": "M-UxNiHSxgPb"
      },
      "execution_count": null,
      "outputs": []
    },
    {
      "cell_type": "code",
      "source": [
        "a=5\n",
        "b=10\n",
        "\n",
        "c=[1,2,3,4,5]\n",
        "print(a in c)\n",
        "print(b in c)\n"
      ],
      "metadata": {
        "id": "gequLhunxqtw"
      },
      "execution_count": null,
      "outputs": []
    },
    {
      "cell_type": "code",
      "source": [
        "a=5\n",
        "b=10\n",
        "\n",
        "c=[1,2,3,4,5]\n",
        "print(a not in c)\n",
        "print(b not in c)"
      ],
      "metadata": {
        "id": "elhKPXW6x_vH"
      },
      "execution_count": null,
      "outputs": []
    },
    {
      "cell_type": "markdown",
      "source": [
        "IF-ELSE STATEMENT IN PYTHON"
      ],
      "metadata": {
        "id": "3S-xpz3oyMKr"
      }
    },
    {
      "cell_type": "code",
      "source": [
        "a=30\n",
        "b=50\n",
        "\n",
        "if(a>b):\n",
        "  print('a is the greatest number')\n",
        "else:\n",
        "  print('b is the greatest number')\n",
        "\n"
      ],
      "metadata": {
        "id": "ADBl_1i5yEUS"
      },
      "execution_count": null,
      "outputs": []
    },
    {
      "cell_type": "code",
      "source": [
        "a=int(input('Enter the first number: '))\n",
        "b=int(input('Enter the second number:'))\n",
        "\n",
        "if(a>b):\n",
        "  print('a is the greatest number')\n",
        "else:\n",
        "  print('b is the greatest number')\n"
      ],
      "metadata": {
        "id": "A6jk47sUykFs"
      },
      "execution_count": null,
      "outputs": []
    },
    {
      "cell_type": "markdown",
      "source": [
        "if-elif-else statement"
      ],
      "metadata": {
        "id": "lF8xgS7TzVp-"
      }
    },
    {
      "cell_type": "code",
      "source": [
        "a=15\n",
        "b=40\n",
        "c=30\n",
        "\n",
        "if(b<a>c):\n",
        "  print('a is the greatest number')\n",
        "elif(a<b>c):\n",
        "  print('b is the greatest number')\n",
        "else:\n",
        "  print('c is the greatest number')\n"
      ],
      "metadata": {
        "id": "wvcpddAhzbCE"
      },
      "execution_count": null,
      "outputs": []
    },
    {
      "cell_type": "markdown",
      "source": [
        "nested if statement"
      ],
      "metadata": {
        "id": "ak_4MTHG0Ehi"
      }
    },
    {
      "cell_type": "code",
      "source": [
        "a=20\n",
        "b=40\n",
        "c=60\n",
        "\n",
        "if(a>b):\n",
        "  if(a>c):\n",
        "    print('a is greatest')\n",
        "  else:\n",
        "    print('c is greatest')\n",
        "else:\n",
        "  if(b>c):\n",
        "    print('b is greatest')\n",
        "  else:\n",
        "    print('c is greatest')\n",
        "\n"
      ],
      "metadata": {
        "id": "ifclT7co0LZo"
      },
      "execution_count": null,
      "outputs": []
    },
    {
      "cell_type": "markdown",
      "source": [
        "FOR LOOP"
      ],
      "metadata": {
        "id": "rKYkbgJH1TrH"
      }
    },
    {
      "cell_type": "code",
      "source": [
        "laptop_1=int(input('Enter the price of the laptop:'))\n",
        "laptop_2=int(input('Enter the price of the laptop:'))\n",
        "laptop_3=int(input('Enter the price of the laptop:'))\n",
        "laptop_4=int(input('Enter the price of the laptop:'))\n",
        "laptop_5=int(input('Enter the price of the laptop:'))\n"
      ],
      "metadata": {
        "id": "hVqxPnQQ1W80"
      },
      "execution_count": null,
      "outputs": []
    },
    {
      "cell_type": "code",
      "source": [
        "for i in range(5):    #0,1,2,3,4\n",
        "  laptop_price=int(input('Enter the price of the laptop:'))\n",
        "\n",
        "\n"
      ],
      "metadata": {
        "id": "dlTLsZEl3A8W"
      },
      "execution_count": null,
      "outputs": []
    },
    {
      "cell_type": "code",
      "source": [
        "#list\n",
        "numbers=[50,100,150,200,10]\n",
        "\n",
        "print(numbers[0])\n",
        "print(numbers[1])\n",
        "print(numbers[2])\n",
        "print(numbers[3])\n",
        "print(numbers[4])"
      ],
      "metadata": {
        "id": "AfCowj7m3WLt"
      },
      "execution_count": null,
      "outputs": []
    },
    {
      "cell_type": "code",
      "source": [
        "number=[50,220,90,180,40]\n",
        "\n",
        "for i in number:\n",
        "  print(i)"
      ],
      "metadata": {
        "id": "DirHm21A3qXb"
      },
      "execution_count": null,
      "outputs": []
    },
    {
      "cell_type": "markdown",
      "source": [
        "WHILE LOOP"
      ],
      "metadata": {
        "id": "N0-54Hcx4Ib6"
      }
    },
    {
      "cell_type": "code",
      "source": [
        "i=0\n",
        "\n",
        "while i<10:\n",
        "  print(i)\n",
        "  i+=1   # i=i+1\n"
      ],
      "metadata": {
        "id": "-3NWms-W4J7O"
      },
      "execution_count": null,
      "outputs": []
    },
    {
      "cell_type": "markdown",
      "source": [
        "FUNCTIONS:\n",
        "\n",
        "FUNCTION IS A BLOCK OF CODE THAT CAN BE REUSED IN A PROGRAM\n"
      ],
      "metadata": {
        "id": "scwCUKq85AO0"
      }
    },
    {
      "cell_type": "markdown",
      "source": [
        "FACTORIAL OF A NUMBER\n",
        "\n",
        "Factorial of a number is the product of all positive number integers less than or equal to the given number\n"
      ],
      "metadata": {
        "id": "xpJGky6m563D"
      }
    },
    {
      "cell_type": "code",
      "source": [
        "number = int(input('Enter a number to find its factorial: '))\n",
        "factorial =1\n",
        "\n",
        "if number==0:\n",
        "  print('The Factorial of 0 is 1')\n",
        "else:\n",
        "  for i in range(1,number+1):\n",
        "    factorial=factorial*i\n",
        "  print('The factorial of ',number,'is',factorial)\n"
      ],
      "metadata": {
        "id": "R9zyZEpc6Ie7"
      },
      "execution_count": null,
      "outputs": []
    },
    {
      "cell_type": "markdown",
      "source": [
        "factorial function"
      ],
      "metadata": {
        "id": "UvpY6Z0t6-lZ"
      }
    },
    {
      "cell_type": "code",
      "source": [
        "def factorial_value(num):\n",
        "\n",
        "  factorial =1\n",
        "\n",
        "  if num == 0:\n",
        "    return factorial\n",
        "\n",
        "  else:\n",
        "    for i in range(1,num+1):\n",
        "      factorial=factorial*i\n",
        "    return factorial\n",
        "\n"
      ],
      "metadata": {
        "id": "hzznXFFB63Fz"
      },
      "execution_count": null,
      "outputs": []
    },
    {
      "cell_type": "code",
      "source": [
        "print(factorial_value(5))"
      ],
      "metadata": {
        "id": "JmznBENX7loJ"
      },
      "execution_count": null,
      "outputs": []
    },
    {
      "cell_type": "code",
      "source": [
        "print(factorial_value(10))"
      ],
      "metadata": {
        "id": "QDivr0yp7q4x"
      },
      "execution_count": null,
      "outputs": []
    },
    {
      "cell_type": "code",
      "source": [],
      "metadata": {
        "id": "iMCvoPjR8DX9"
      },
      "execution_count": null,
      "outputs": []
    }
  ]
}